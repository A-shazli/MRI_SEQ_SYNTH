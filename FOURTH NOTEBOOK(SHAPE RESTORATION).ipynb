{
 "cells": [
  {
   "cell_type": "code",
   "execution_count": null,
   "id": "36ec7984-9fb4-449a-88d7-919b9ec8e10c",
   "metadata": {},
   "outputs": [],
   "source": [
    "import os\n",
    "import nibabel as nib\n",
    "import numpy as np\n",
    "import matplotlib.pyplot as plt\n",
    "# Path to the segmentation folder\n",
    "segmentation_folder = 'Path to the segmentation output'\n",
    "\n",
    "# Path to the crop coordinates folder\n",
    "coords_folder = 'Path to the folder from the first notebook'\n",
    "\n",
    "# Iterate through each segmentation file\n",
    "for segmentation_file in os.listdir(segmentation_folder):\n",
    "    if segmentation_file.endswith('.nii.gz'):\n",
    "        # Extract the patient ID from the segmentation file name\n",
    "        patient_id= os.path.splitext(segmentation_file)[0].split(\".\")\n",
    "        print(patient_id[0])\n",
    "\n",
    "        # Load the segmentation\n",
    "        segmentation_load = nib.load(os.path.join(segmentation_folder, segmentation_file))\n",
    "\n",
    "        segmentation = nib.load(os.path.join(segmentation_folder, segmentation_file)).get_fdata()\n",
    "        # Load the corresponding crop coordinates\n",
    "        crop_coords_file = f'{patient_id[0]}_crop_coords.npy'\n",
    "\n",
    "        print(crop_coords_file)\n",
    "\n",
    "        crop_coords = np.load(os.path.join(coords_folder, crop_coords_file))\n",
    "\n",
    "        # Create an empty array with the original shape\n",
    "        restored_segmentation = np.zeros((240, 240, 155))\n",
    "\n",
    "        # Place the cropped segmentation in the correct location\n",
    "        restored_segmentation[crop_coords[0][0]:crop_coords[1][0],\n",
    "                              crop_coords[0][1]:crop_coords[1][1],\n",
    "                              crop_coords[0][2]:crop_coords[1][2]] = segmentation\n",
    "\n",
    "        # Save the restored segmentation\n",
    "        restored_img = nib.Nifti1Image(restored_segmentation, segmentation_load.affine)\n",
    "        output_path = os.path.join('Path where the new segmentaions with the original shapes are going to be saved', segmentation_file)\n",
    "        nib.save(restored_img, output_path)\n",
    "        print(f\"Restored segmentation saved to {output_path}\")\n"
   ]
  }
 ],
 "metadata": {
  "kernelspec": {
   "display_name": "Python 3 (ipykernel)",
   "language": "python",
   "name": "python3"
  },
  "language_info": {
   "codemirror_mode": {
    "name": "ipython",
    "version": 3
   },
   "file_extension": ".py",
   "mimetype": "text/x-python",
   "name": "python",
   "nbconvert_exporter": "python",
   "pygments_lexer": "ipython3",
   "version": "3.10.13"
  }
 },
 "nbformat": 4,
 "nbformat_minor": 5
}
